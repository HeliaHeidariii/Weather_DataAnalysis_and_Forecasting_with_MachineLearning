{
  "nbformat": 4,
  "nbformat_minor": 0,
  "metadata": {
    "colab": {
      "private_outputs": true,
      "provenance": [],
      "gpuType": "T4"
    },
    "kernelspec": {
      "name": "python3",
      "display_name": "Python 3"
    },
    "language_info": {
      "name": "python"
    },
    "accelerator": "GPU"
  },
  "cells": [
    {
      "cell_type": "code",
      "execution_count": null,
      "metadata": {
        "id": "KSnlDLZqqwGJ"
      },
      "outputs": [],
      "source": [
        "import pandas as pd\n",
        "import numpy as np\n",
        "from sklearn.model_selection import train_test_split"
      ]
    },
    {
      "cell_type": "code",
      "source": [
        "df = pd.read_csv('/content/openmeteo2.csv')"
      ],
      "metadata": {
        "id": "AaQR0lDHq02F"
      },
      "execution_count": null,
      "outputs": []
    },
    {
      "cell_type": "code",
      "source": [
        "df.shape"
      ],
      "metadata": {
        "id": "5Axy3DKYq0wz"
      },
      "execution_count": null,
      "outputs": []
    },
    {
      "cell_type": "code",
      "source": [
        "df.isna().sum()"
      ],
      "metadata": {
        "id": "4BQOv9TPq0ui"
      },
      "execution_count": null,
      "outputs": []
    },
    {
      "cell_type": "code",
      "source": [
        "df.dropna(inplace=True)"
      ],
      "metadata": {
        "id": "20LVBHOwq0sG"
      },
      "execution_count": null,
      "outputs": []
    },
    {
      "cell_type": "code",
      "source": [
        "df.shape"
      ],
      "metadata": {
        "id": "9TSi4zlh2VeZ"
      },
      "execution_count": null,
      "outputs": []
    },
    {
      "cell_type": "code",
      "source": [
        "df.isna().sum()"
      ],
      "metadata": {
        "id": "7T9B808-2Vb6"
      },
      "execution_count": null,
      "outputs": []
    },
    {
      "cell_type": "code",
      "source": [
        "df['precipitation (mm)'] = pd.to_numeric(df['precipitation (mm)'], errors='coerce')"
      ],
      "metadata": {
        "id": "cpouH59fAq7J"
      },
      "execution_count": null,
      "outputs": []
    },
    {
      "cell_type": "code",
      "source": [
        "print(df['precipitation (mm)'].isna().sum())\n"
      ],
      "metadata": {
        "id": "VIWkrESQAszj"
      },
      "execution_count": null,
      "outputs": []
    },
    {
      "cell_type": "code",
      "source": [
        "df['weather_label'] = df['precipitation (mm)'].apply(lambda x: 1 if x > 0 else 0)\n"
      ],
      "metadata": {
        "id": "umJ1yHFV-bC6"
      },
      "execution_count": null,
      "outputs": []
    },
    {
      "cell_type": "code",
      "source": [
        "print(df.columns)\n"
      ],
      "metadata": {
        "id": "is3nC6Ya_X21"
      },
      "execution_count": null,
      "outputs": []
    },
    {
      "cell_type": "code",
      "source": [
        "X = df[['relative_humidity_2m (%)', 'dew_point_2m (°C)', 'apparent_temperature (°C)',\n",
        "        'pressure_msl (hPa)', 'wind_speed_10m (km/h)', 'cloud_cover_high (%)',\n",
        "        'soil_temperature_7_to_28cm (°C)', 'sunshine_duration (s)']]\n",
        "\n",
        "y_class = df['weather_label']\n",
        "y_reg = df['precipitation (mm)']\n"
      ],
      "metadata": {
        "id": "X3ShBVmY98On"
      },
      "execution_count": null,
      "outputs": []
    },
    {
      "cell_type": "code",
      "source": [
        "x_train, x_test, y_class_train, y_class_test, y_reg_train, y_reg_test = train_test_split(X, y_class, y_reg, test_size=0.2, random_state=42)"
      ],
      "metadata": {
        "id": "Gz_0IMn1-CmQ"
      },
      "execution_count": null,
      "outputs": []
    },
    {
      "cell_type": "code",
      "source": [
        "print(x_train.shape)\n",
        "print(x_test.shape)\n",
        "print(y_class_train.shape)\n",
        "print(y_class_test.shape)\n",
        "print(y_reg_train.shape)\n",
        "print(y_reg_test.shape)"
      ],
      "metadata": {
        "id": "ZyleMJkG_oGd"
      },
      "execution_count": null,
      "outputs": []
    },
    {
      "cell_type": "code",
      "source": [
        "from sklearn.linear_model import LinearRegression, LogisticRegression\n"
      ],
      "metadata": {
        "id": "uosrd70HAXTe"
      },
      "execution_count": null,
      "outputs": []
    },
    {
      "cell_type": "code",
      "source": [
        "regressor = LinearRegression()\n",
        "regressor.fit(x_train, y_reg_train)\n",
        "y_reg_pred = regressor.predict(x_test)\n"
      ],
      "metadata": {
        "id": "gRXRTal7AbfU"
      },
      "execution_count": null,
      "outputs": []
    },
    {
      "cell_type": "code",
      "source": [
        "classifier = LogisticRegression()\n",
        "classifier.fit(x_train, y_class_train)\n",
        "y_class_pred = classifier.predict(x_test)"
      ],
      "metadata": {
        "id": "JUzIbpR9uziM"
      },
      "execution_count": null,
      "outputs": []
    },
    {
      "cell_type": "code",
      "source": [
        "from sklearn.metrics import  classification_report"
      ],
      "metadata": {
        "id": "0XfHPM_Qxdl6"
      },
      "execution_count": null,
      "outputs": []
    },
    {
      "cell_type": "code",
      "source": [
        "print(\"Classification Report:\")\n",
        "print(classification_report(y_class_test, y_class_pred))"
      ],
      "metadata": {
        "id": "0mxAtGetu1uz"
      },
      "execution_count": null,
      "outputs": []
    },
    {
      "cell_type": "code",
      "source": [
        "condition = 'صاف' if y_class_pred[0] == 0 else 'بارانی / برفی '\n",
        "precipitation = y_reg_pred[0]\n",
        "if precipitation < 0.1:\n",
        "    precipitation = 0\n",
        "elif precipitation >= 1:\n",
        "    precipitation = 1\n",
        "\n",
        "print(f\"پیش‌بینی برای فردا: هوا {condition} خواهد بود و میزان بارش {precipitation:.2f} میلی‌متر است.\")"
      ],
      "metadata": {
        "id": "hA-ArRe4u38L"
      },
      "execution_count": null,
      "outputs": []
    }
  ]
}